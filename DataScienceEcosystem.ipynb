{
 "cells": [
  {
   "cell_type": "markdown",
   "id": "12677a2b-d7c0-47d8-a1d7-f619b1a34cdd",
   "metadata": {},
   "source": [
    "# Data Science Tools and Ecosystem"
   ]
  },
  {
   "cell_type": "markdown",
   "id": "a15aad41-febb-434d-8ec7-59ac615fdce6",
   "metadata": {},
   "source": [
    "## Introduction"
   ]
  },
  {
   "cell_type": "markdown",
   "id": "4c1e47dd-6172-4229-91d6-f3679c018e87",
   "metadata": {},
   "source": [
    "In this notebook, Data Science Tools and Ecosystem are summarized."
   ]
  },
  {
   "cell_type": "markdown",
   "id": "d4ffc8fa-818a-469b-ae93-276c77b2b147",
   "metadata": {},
   "source": [
    "**Objectives:**\n",
    "\n",
    "List popular languages for Data Science:\n",
    "- Python\n",
    "- R\n",
    " - SQL\n",
    " - Java"
   ]
  },
  {
   "cell_type": "markdown",
   "id": "3409cb88-814e-4d56-b060-3124eb6ba2a3",
   "metadata": {},
   "source": [
    "Some of the popular languages that Data Scientists use are:\n",
    "\n",
    "1. Python\n",
    "2. R\n",
    "3. SQL\n",
    "4. Julia\n",
    "5. Java\n"
   ]
  },
  {
   "cell_type": "markdown",
   "id": "f67addfd-06ea-4780-9051-bdb064fda06b",
   "metadata": {},
   "source": [
    "Some of the commonly used libraries for Data Science are:\n",
    "\n",
    "1. **NumPy** - For numerical computing and working with arrays.\n",
    "2. **Pandas** - For data manipulation and analysis.\n",
    "3. **Matplotlib** - For data visualization.\n",
    "4. **Scikit-learn** - For machine learning algorithms.\n",
    "5. **TensorFlow** - For deep learning and neural networks."
   ]
  },
  {
   "cell_type": "markdown",
   "id": "be394111-c3d3-4535-992a-9f69ac922c61",
   "metadata": {},
   "source": [
    "| ** Data Science Tools ** |\n",
    "|--------------------------|\n",
    "| Jupyter Notebook         |\n",
    "| RStudio                  |\n",
    "| Apache Zeppelin          |\n",
    "| MySQL                    |\n",
    "| MongoDB                  |\n",
    "\n"
   ]
  },
  {
   "cell_type": "markdown",
   "id": "e54c7451-2f38-4f4d-99f5-d29ac9e447c5",
   "metadata": {},
   "source": [
    "### Below are a few examples of evaluating arithmetic expressions in Python ###\n",
    "\n",
    "1. **Addition** = a+b\n",
    "2. **Multiplication** = X * Y\n",
    "3. **Subtraction** = a-b\n",
    "4. **Division** = x/y"
   ]
  },
  {
   "cell_type": "code",
   "execution_count": 3,
   "id": "64c7f1ff-0d4a-42c4-a561-d149efb6fbe0",
   "metadata": {},
   "outputs": [
    {
     "name": "stdout",
     "output_type": "stream",
     "text": [
      "17\n"
     ]
    }
   ],
   "source": [
    "###This a simple arithmetic expression to mutiply then add integers###\n",
    "A=(3*4)+5\n",
    "print(A)"
   ]
  },
  {
   "cell_type": "code",
   "execution_count": 6,
   "id": "5b414026-403f-475a-b598-db2c5bb68582",
   "metadata": {},
   "outputs": [
    {
     "name": "stdout",
     "output_type": "stream",
     "text": [
      "3.3333333333333335\n"
     ]
    }
   ],
   "source": [
    "### This will convert 200 minutes to hours by diving by 60###\n",
    "\n",
    "minutes = 200\n",
    "hours = minutes/60\n",
    "print(hours)"
   ]
  },
  {
   "cell_type": "markdown",
   "id": "486fd1d5-4b46-4063-b3b5-0eb4a5243aee",
   "metadata": {},
   "source": [
    "## Author ##\n",
    "Poornima Velswamy"
   ]
  },
  {
   "cell_type": "markdown",
   "id": "9fb0c442-68f4-4627-9e8b-2e7c59166b22",
   "metadata": {},
   "source": []
  }
 ],
 "metadata": {
  "kernelspec": {
   "display_name": "Python 3 (ipykernel)",
   "language": "python",
   "name": "python3"
  },
  "language_info": {
   "codemirror_mode": {
    "name": "ipython",
    "version": 3
   },
   "file_extension": ".py",
   "mimetype": "text/x-python",
   "name": "python",
   "nbconvert_exporter": "python",
   "pygments_lexer": "ipython3",
   "version": "3.12.4"
  }
 },
 "nbformat": 4,
 "nbformat_minor": 5
}
